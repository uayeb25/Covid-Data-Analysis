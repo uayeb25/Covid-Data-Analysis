{
 "cells": [
  {
   "cell_type": "code",
   "execution_count": 52,
   "id": "98258303-61f5-48d9-9f92-492edd73cc7e",
   "metadata": {},
   "outputs": [],
   "source": [
    "import pandas as pd\n",
    "import numpy as np\n",
    "import matplotlib.pyplot as plt\n",
    "from datetime import datetime, timedelta\n",
    "from matplotlib import dates as mpl_dates\n",
    "import pandas as pd\n",
    "import os.path\n",
    "from matplotlib import pyplot\n",
    "from math import sqrt\n",
    "from sklearn.metrics import mean_squared_error\n",
    "import statsmodels.api as sm\n",
    "plt.style.use('seaborn')"
   ]
  },
  {
   "cell_type": "code",
   "execution_count": 37,
   "id": "f7928857-bf7c-4cbb-9d2e-03f24aaf80f4",
   "metadata": {},
   "outputs": [],
   "source": [
    "from statsmodels.tsa.arima.model import ARIMA"
   ]
  },
  {
   "cell_type": "code",
   "execution_count": 38,
   "id": "e2b9eeb6-4887-4673-a1f2-9b65fa7dd1ef",
   "metadata": {},
   "outputs": [],
   "source": [
    "data_to_forecast = pd.read_csv(\"../data_source/training_set.csv\")"
   ]
  },
  {
   "cell_type": "code",
   "execution_count": 39,
   "id": "567ad59c-6e52-41d2-a208-3df0a83f8b5f",
   "metadata": {},
   "outputs": [],
   "source": [
    "data_to_forecast[\"date\"] = pd.to_datetime( data_to_forecast[\"date\"] )"
   ]
  },
  {
   "cell_type": "code",
   "execution_count": 40,
   "id": "77bcdbd2-9a72-45b8-b18d-b0227ea28cf5",
   "metadata": {},
   "outputs": [],
   "source": [
    "use_ = data_to_forecast.loc[ data_to_forecast['location'] == 'Austria' , ['date','attention_score']  ]"
   ]
  },
  {
   "cell_type": "code",
   "execution_count": 41,
   "id": "82bb6437-11b9-47d0-88f4-8ffb94029a47",
   "metadata": {},
   "outputs": [],
   "source": [
    "series = use_\n",
    "series.index = series.date.dt.to_period('M')\n",
    "series = series.loc[:,['attention_score']]"
   ]
  },
  {
   "cell_type": "code",
   "execution_count": 54,
   "id": "ad4d2c10-4af4-432c-9ecc-f406e15de05e",
   "metadata": {},
   "outputs": [
    {
     "name": "stderr",
     "output_type": "stream",
     "text": [
      "C:\\Users\\50431\\anaconda3\\lib\\site-packages\\statsmodels\\base\\model.py:566: ConvergenceWarning: Maximum Likelihood optimization failed to converge. Check mle_retvals\n",
      "  warnings.warn(\"Maximum Likelihood optimization failed to \"\n",
      "C:\\Users\\50431\\anaconda3\\lib\\site-packages\\statsmodels\\tsa\\statespace\\sarimax.py:966: UserWarning: Non-stationary starting autoregressive parameters found. Using zeros as starting parameters.\n",
      "  warn('Non-stationary starting autoregressive parameters'\n"
     ]
    },
    {
     "name": "stdout",
     "output_type": "stream",
     "text": [
      "predicted=1.126186, expected=0.955170\n",
      "predicted=0.926268, expected=0.945087\n",
      "predicted=0.945087, expected=0.852358\n",
      "predicted=0.861351, expected=0.926935\n",
      "predicted=0.793299, expected=0.900882\n",
      "Test RMSE: 0.104\n"
     ]
    },
    {
     "data": {
      "image/png": "[encoded data removed]",
      "text/plain": [
       "<Figure size 576x396 with 1 Axes>"
      ]
     },
     "metadata": {},
     "output_type": "display_data"
    }
   ],
   "source": [
    "# split into train and test sets\n",
    "X = series.values\n",
    "size = int(len(X) * 0.64)\n",
    "train, test = X[0:size], X[size:len(X)]\n",
    "history = [x for x in train]\n",
    "predictions = list()\n",
    "# walk-forward validation\n",
    "for t in range(len(test)):\n",
    "    model = ARIMA(history, order=(5,1,0))\n",
    "    model_fit = model.fit()\n",
    "    output = model_fit.forecast()\n",
    "    yhat = output[0]\n",
    "    predictions.append(yhat)\n",
    "    obs = test[t]\n",
    "    history.append(obs)\n",
    "    print('predicted=%f, expected=%f' % (yhat, obs))\n",
    "# evaluate forecasts\n",
    "rmse = sqrt(mean_squared_error(test, predictions))\n",
    "print('Test RMSE: %.3f' % rmse)\n",
    "# plot forecasts against actual outcomes\n",
    "pyplot.plot(test)\n",
    "pyplot.plot(predictions, color='red')\n",
    "pyplot.show()"
   ]
  },
  {
   "cell_type": "code",
   "execution_count": 55,
   "id": "b529dbf3-2dd7-4c96-80fb-57cf03de5716",
   "metadata": {},
   "outputs": [
    {
     "data": {
      "text/plain": [
       "array([0.90088172])"
      ]
     },
     "execution_count": 55,
     "metadata": {},
     "output_type": "execute_result"
    }
   ],
   "source": [
    "test[t]"
   ]
  },
  {
   "cell_type": "code",
   "execution_count": 56,
   "id": "4c99db05-6124-496d-a328-6089cbe03c0b",
   "metadata": {},
   "outputs": [
    {
     "data": {
      "text/plain": [
       "0.7932988156864234"
      ]
     },
     "execution_count": 56,
     "metadata": {},
     "output_type": "execute_result"
    }
   ],
   "source": [
    "yhat"
   ]
  },
  {
   "cell_type": "code",
   "execution_count": 58,
   "id": "1e8463b4-b8e7-4273-8893-7125df3b2c9d",
   "metadata": {},
   "outputs": [
    {
     "data": {
      "text/plain": [
       "0.7932988156864234"
      ]
     },
     "execution_count": 58,
     "metadata": {},
     "output_type": "execute_result"
    }
   ],
   "source": [
    "output[0]"
   ]
  },
  {
   "cell_type": "code",
   "execution_count": null,
   "id": "0f9080fd-7437-4c28-9289-4f2748d00d7d",
   "metadata": {},
   "outputs": [],
   "source": []
  }
 ],
 "metadata": {
  "kernelspec": {
   "display_name": "Python 3",
   "language": "python",
   "name": "python3"
  },
  "language_info": {
   "codemirror_mode": {
    "name": "ipython",
    "version": 3
   },
   "file_extension": ".py",
   "mimetype": "text/x-python",
   "name": "python",
   "nbconvert_exporter": "python",
   "pygments_lexer": "ipython3",
   "version": "3.8.8"
  }
 },
 "nbformat": 4,
 "nbformat_minor": 5
}
